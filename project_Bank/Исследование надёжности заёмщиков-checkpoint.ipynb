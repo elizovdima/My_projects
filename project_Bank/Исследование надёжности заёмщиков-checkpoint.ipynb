{
 "cells": [
  {
   "cell_type": "markdown",
   "metadata": {},
   "source": [
    "## Исследование надёжности заёмщиков\n",
    "\n",
    "Заказчик — кредитный отдел банка. Нужно разобраться, влияет ли семейное положение и количество детей клиента на факт погашения кредита в срок. Входные данные от банка — статистика о платёжеспособности клиентов.\n",
    "\n",
    "Результаты исследования будут учтены при построении модели **кредитного скоринга** — специальной системы, которая оценивает способность потенциального заёмщика вернуть кредит банку."
   ]
  },
  {
   "cell_type": "markdown",
   "metadata": {},
   "source": [
    "### Шаг 1. Откройте файл с данными и изучите общую информацию. "
   ]
  },
  {
   "cell_type": "code",
   "execution_count": 1,
   "metadata": {},
   "outputs": [],
   "source": [
    "import pandas as pd # <импорт библиотеки pandas>"
   ]
  },
  {
   "cell_type": "markdown",
   "metadata": {},
   "source": [
    "Прочитаем файл *'/datasets/data.csv'* и сохраним его в переменной *data*. "
   ]
  },
  {
   "cell_type": "code",
   "execution_count": 2,
   "metadata": {},
   "outputs": [],
   "source": [
    "data = pd.read_csv('/datasets/data.csv')  # <чтение файла с данными с сохранением в data>"
   ]
  },
  {
   "cell_type": "markdown",
   "metadata": {},
   "source": [
    "Получение первых 10 строк таблицы."
   ]
  },
  {
   "cell_type": "code",
   "execution_count": 3,
   "metadata": {},
   "outputs": [
    {
     "data": {
      "text/html": [
       "<div>\n",
       "<style scoped>\n",
       "    .dataframe tbody tr th:only-of-type {\n",
       "        vertical-align: middle;\n",
       "    }\n",
       "\n",
       "    .dataframe tbody tr th {\n",
       "        vertical-align: top;\n",
       "    }\n",
       "\n",
       "    .dataframe thead th {\n",
       "        text-align: right;\n",
       "    }\n",
       "</style>\n",
       "<table border=\"1\" class=\"dataframe\">\n",
       "  <thead>\n",
       "    <tr style=\"text-align: right;\">\n",
       "      <th></th>\n",
       "      <th>children</th>\n",
       "      <th>days_employed</th>\n",
       "      <th>dob_years</th>\n",
       "      <th>education</th>\n",
       "      <th>education_id</th>\n",
       "      <th>family_status</th>\n",
       "      <th>family_status_id</th>\n",
       "      <th>gender</th>\n",
       "      <th>income_type</th>\n",
       "      <th>debt</th>\n",
       "      <th>total_income</th>\n",
       "      <th>purpose</th>\n",
       "    </tr>\n",
       "  </thead>\n",
       "  <tbody>\n",
       "    <tr>\n",
       "      <td>0</td>\n",
       "      <td>1</td>\n",
       "      <td>-8437.673028</td>\n",
       "      <td>42</td>\n",
       "      <td>высшее</td>\n",
       "      <td>0</td>\n",
       "      <td>женат / замужем</td>\n",
       "      <td>0</td>\n",
       "      <td>F</td>\n",
       "      <td>сотрудник</td>\n",
       "      <td>0</td>\n",
       "      <td>253875.639453</td>\n",
       "      <td>покупка жилья</td>\n",
       "    </tr>\n",
       "    <tr>\n",
       "      <td>1</td>\n",
       "      <td>1</td>\n",
       "      <td>-4024.803754</td>\n",
       "      <td>36</td>\n",
       "      <td>среднее</td>\n",
       "      <td>1</td>\n",
       "      <td>женат / замужем</td>\n",
       "      <td>0</td>\n",
       "      <td>F</td>\n",
       "      <td>сотрудник</td>\n",
       "      <td>0</td>\n",
       "      <td>112080.014102</td>\n",
       "      <td>приобретение автомобиля</td>\n",
       "    </tr>\n",
       "    <tr>\n",
       "      <td>2</td>\n",
       "      <td>0</td>\n",
       "      <td>-5623.422610</td>\n",
       "      <td>33</td>\n",
       "      <td>Среднее</td>\n",
       "      <td>1</td>\n",
       "      <td>женат / замужем</td>\n",
       "      <td>0</td>\n",
       "      <td>M</td>\n",
       "      <td>сотрудник</td>\n",
       "      <td>0</td>\n",
       "      <td>145885.952297</td>\n",
       "      <td>покупка жилья</td>\n",
       "    </tr>\n",
       "    <tr>\n",
       "      <td>3</td>\n",
       "      <td>3</td>\n",
       "      <td>-4124.747207</td>\n",
       "      <td>32</td>\n",
       "      <td>среднее</td>\n",
       "      <td>1</td>\n",
       "      <td>женат / замужем</td>\n",
       "      <td>0</td>\n",
       "      <td>M</td>\n",
       "      <td>сотрудник</td>\n",
       "      <td>0</td>\n",
       "      <td>267628.550329</td>\n",
       "      <td>дополнительное образование</td>\n",
       "    </tr>\n",
       "    <tr>\n",
       "      <td>4</td>\n",
       "      <td>0</td>\n",
       "      <td>340266.072047</td>\n",
       "      <td>53</td>\n",
       "      <td>среднее</td>\n",
       "      <td>1</td>\n",
       "      <td>гражданский брак</td>\n",
       "      <td>1</td>\n",
       "      <td>F</td>\n",
       "      <td>пенсионер</td>\n",
       "      <td>0</td>\n",
       "      <td>158616.077870</td>\n",
       "      <td>сыграть свадьбу</td>\n",
       "    </tr>\n",
       "    <tr>\n",
       "      <td>5</td>\n",
       "      <td>0</td>\n",
       "      <td>-926.185831</td>\n",
       "      <td>27</td>\n",
       "      <td>высшее</td>\n",
       "      <td>0</td>\n",
       "      <td>гражданский брак</td>\n",
       "      <td>1</td>\n",
       "      <td>M</td>\n",
       "      <td>компаньон</td>\n",
       "      <td>0</td>\n",
       "      <td>255763.565419</td>\n",
       "      <td>покупка жилья</td>\n",
       "    </tr>\n",
       "    <tr>\n",
       "      <td>6</td>\n",
       "      <td>0</td>\n",
       "      <td>-2879.202052</td>\n",
       "      <td>43</td>\n",
       "      <td>высшее</td>\n",
       "      <td>0</td>\n",
       "      <td>женат / замужем</td>\n",
       "      <td>0</td>\n",
       "      <td>F</td>\n",
       "      <td>компаньон</td>\n",
       "      <td>0</td>\n",
       "      <td>240525.971920</td>\n",
       "      <td>операции с жильем</td>\n",
       "    </tr>\n",
       "    <tr>\n",
       "      <td>7</td>\n",
       "      <td>0</td>\n",
       "      <td>-152.779569</td>\n",
       "      <td>50</td>\n",
       "      <td>СРЕДНЕЕ</td>\n",
       "      <td>1</td>\n",
       "      <td>женат / замужем</td>\n",
       "      <td>0</td>\n",
       "      <td>M</td>\n",
       "      <td>сотрудник</td>\n",
       "      <td>0</td>\n",
       "      <td>135823.934197</td>\n",
       "      <td>образование</td>\n",
       "    </tr>\n",
       "    <tr>\n",
       "      <td>8</td>\n",
       "      <td>2</td>\n",
       "      <td>-6929.865299</td>\n",
       "      <td>35</td>\n",
       "      <td>ВЫСШЕЕ</td>\n",
       "      <td>0</td>\n",
       "      <td>гражданский брак</td>\n",
       "      <td>1</td>\n",
       "      <td>F</td>\n",
       "      <td>сотрудник</td>\n",
       "      <td>0</td>\n",
       "      <td>95856.832424</td>\n",
       "      <td>на проведение свадьбы</td>\n",
       "    </tr>\n",
       "    <tr>\n",
       "      <td>9</td>\n",
       "      <td>0</td>\n",
       "      <td>-2188.756445</td>\n",
       "      <td>41</td>\n",
       "      <td>среднее</td>\n",
       "      <td>1</td>\n",
       "      <td>женат / замужем</td>\n",
       "      <td>0</td>\n",
       "      <td>M</td>\n",
       "      <td>сотрудник</td>\n",
       "      <td>0</td>\n",
       "      <td>144425.938277</td>\n",
       "      <td>покупка жилья для семьи</td>\n",
       "    </tr>\n",
       "  </tbody>\n",
       "</table>\n",
       "</div>"
      ],
      "text/plain": [
       "   children  days_employed  dob_years education  education_id  \\\n",
       "0         1   -8437.673028         42    высшее             0   \n",
       "1         1   -4024.803754         36   среднее             1   \n",
       "2         0   -5623.422610         33   Среднее             1   \n",
       "3         3   -4124.747207         32   среднее             1   \n",
       "4         0  340266.072047         53   среднее             1   \n",
       "5         0    -926.185831         27    высшее             0   \n",
       "6         0   -2879.202052         43    высшее             0   \n",
       "7         0    -152.779569         50   СРЕДНЕЕ             1   \n",
       "8         2   -6929.865299         35    ВЫСШЕЕ             0   \n",
       "9         0   -2188.756445         41   среднее             1   \n",
       "\n",
       "      family_status  family_status_id gender income_type  debt   total_income  \\\n",
       "0   женат / замужем                 0      F   сотрудник     0  253875.639453   \n",
       "1   женат / замужем                 0      F   сотрудник     0  112080.014102   \n",
       "2   женат / замужем                 0      M   сотрудник     0  145885.952297   \n",
       "3   женат / замужем                 0      M   сотрудник     0  267628.550329   \n",
       "4  гражданский брак                 1      F   пенсионер     0  158616.077870   \n",
       "5  гражданский брак                 1      M   компаньон     0  255763.565419   \n",
       "6   женат / замужем                 0      F   компаньон     0  240525.971920   \n",
       "7   женат / замужем                 0      M   сотрудник     0  135823.934197   \n",
       "8  гражданский брак                 1      F   сотрудник     0   95856.832424   \n",
       "9   женат / замужем                 0      M   сотрудник     0  144425.938277   \n",
       "\n",
       "                      purpose  \n",
       "0               покупка жилья  \n",
       "1     приобретение автомобиля  \n",
       "2               покупка жилья  \n",
       "3  дополнительное образование  \n",
       "4             сыграть свадьбу  \n",
       "5               покупка жилья  \n",
       "6           операции с жильем  \n",
       "7                 образование  \n",
       "8       на проведение свадьбы  \n",
       "9     покупка жилья для семьи  "
      ]
     },
     "execution_count": 3,
     "metadata": {},
     "output_type": "execute_result"
    }
   ],
   "source": [
    "data.head(10) # <получение первых 10 строк таблицы data>"
   ]
  },
  {
   "cell_type": "markdown",
   "metadata": {},
   "source": [
    "Общая информация о данных таблицы data."
   ]
  },
  {
   "cell_type": "code",
   "execution_count": 4,
   "metadata": {},
   "outputs": [
    {
     "name": "stdout",
     "output_type": "stream",
     "text": [
      "<class 'pandas.core.frame.DataFrame'>\n",
      "RangeIndex: 21525 entries, 0 to 21524\n",
      "Data columns (total 12 columns):\n",
      "children            21525 non-null int64\n",
      "days_employed       19351 non-null float64\n",
      "dob_years           21525 non-null int64\n",
      "education           21525 non-null object\n",
      "education_id        21525 non-null int64\n",
      "family_status       21525 non-null object\n",
      "family_status_id    21525 non-null int64\n",
      "gender              21525 non-null object\n",
      "income_type         21525 non-null object\n",
      "debt                21525 non-null int64\n",
      "total_income        19351 non-null float64\n",
      "purpose             21525 non-null object\n",
      "dtypes: float64(2), int64(5), object(5)\n",
      "memory usage: 2.0+ MB\n"
     ]
    }
   ],
   "source": [
    "data.info() # <получение общей информации о данных в таблице data>"
   ]
  },
  {
   "cell_type": "markdown",
   "metadata": {},
   "source": [
    "###### Рассмотрим полученную информацию подробнее.\n",
    "\n",
    "Всего в таблице 12 столбцов, тип данных различается:\n",
    "*  5 столбцов - object (строка)\n",
    "*  5 столбцов - int64 (целые числа)\n",
    "*  2 столбца - float64 (вещественные числа)\n",
    "\n",
    "Подробно разберём, какие в *data* столбцы и какую информацию они содержат:\n",
    "* children — количество детей в семье\n",
    "* days_employed — общий трудовой стаж в днях\n",
    "* dob_years — возраст клиента в годах\n",
    "* education — уровень образования клиента\n",
    "* education_id — идентификатор уровня образования\n",
    "* family_status — семейное положение\n",
    "* family_status_id — идентификатор семейного положения\n",
    "* gender — пол клиента\n",
    "* income_type — тип занятости\n",
    "* debt — имел ли задолженность по возврату кредитов\n",
    "* total_income — ежемесячный доход\n",
    "* purpose — цель получения кредита\n",
    "\n",
    "Количество значений в столбцах различается. Это говорит о том, что в данных есть non-null значения."
   ]
  },
  {
   "cell_type": "markdown",
   "metadata": {},
   "source": [
    "### Вывод"
   ]
  },
  {
   "cell_type": "markdown",
   "metadata": {},
   "source": [
    "Каждая строка таблицы содержит информацию о платёжеспособности клиентов. \n",
    "Есть несколько проблем, которые нужно решить:\n",
    "1. Пропуски в столбцах: days_employed и total_income\n",
    "2. Отрицательные значениея в стобце days_employed\n",
    "3. Разный регистр в значения стобца education\n",
    "\n"
   ]
  },
  {
   "cell_type": "markdown",
   "metadata": {},
   "source": [
    "### Шаг 2. Предобработка данных"
   ]
  },
  {
   "cell_type": "markdown",
   "metadata": {},
   "source": [
    "### Обработка пропусков"
   ]
  },
  {
   "cell_type": "markdown",
   "metadata": {},
   "source": [
    "Проверим данные на наличие пропусков вызовом набора методов для суммирования пропущенных значений."
   ]
  },
  {
   "cell_type": "code",
   "execution_count": 5,
   "metadata": {},
   "outputs": [
    {
     "data": {
      "text/plain": [
       "children               0\n",
       "days_employed       2174\n",
       "dob_years              0\n",
       "education              0\n",
       "education_id           0\n",
       "family_status          0\n",
       "family_status_id       0\n",
       "gender                 0\n",
       "income_type            0\n",
       "debt                   0\n",
       "total_income        2174\n",
       "purpose                0\n",
       "dtype: int64"
      ]
     },
     "execution_count": 5,
     "metadata": {},
     "output_type": "execute_result"
    }
   ],
   "source": [
    "data.isnull().sum() # <суммарное количество пропусков, выявленных методом isnull() в таблице data>"
   ]
  },
  {
   "cell_type": "markdown",
   "metadata": {},
   "source": [
    "Видим 2174 пустых значения в столбцах days_employed и total_income. Удаление 10.1 % таких строк повлияет на результат задачи в целом. Пропуски в количественных переменных заполняют характерными значениями. Чтобы примерно оценить типичные значения выборки, воспользуемся методом среднее арифметическое."
   ]
  },
  {
   "cell_type": "code",
   "execution_count": 6,
   "metadata": {},
   "outputs": [],
   "source": [
    "# Применяю метод .abs() для перевода отрицательных чисел в положительные\n",
    "data['days_employed'] = data['days_employed'].abs()"
   ]
  },
  {
   "cell_type": "markdown",
   "metadata": {},
   "source": [
    "Для заполнения пустых значений в столбце days_employed распределим клиентов на три возрастные категории:\n",
    "\n",
    "- Клиенты младше 18 лет попадают в категорию «дети»;\n",
    "- Клиенты от 19 до 64 лет — категория «взрослые»;\n",
    "- Клиенты старше 65 лет в категорию «пенсионеры».\n",
    "\n",
    "Каждой возрастной категории посчитаем среднее значение стажа работы, а затем в соответствии среднего стажа и возрастной категории, заменим пропуски в столбце days_employed."
   ]
  },
  {
   "cell_type": "code",
   "execution_count": 7,
   "metadata": {},
   "outputs": [
    {
     "data": {
      "text/html": [
       "<div>\n",
       "<style scoped>\n",
       "    .dataframe tbody tr th:only-of-type {\n",
       "        vertical-align: middle;\n",
       "    }\n",
       "\n",
       "    .dataframe tbody tr th {\n",
       "        vertical-align: top;\n",
       "    }\n",
       "\n",
       "    .dataframe thead th {\n",
       "        text-align: right;\n",
       "    }\n",
       "</style>\n",
       "<table border=\"1\" class=\"dataframe\">\n",
       "  <thead>\n",
       "    <tr style=\"text-align: right;\">\n",
       "      <th></th>\n",
       "      <th>days_employed</th>\n",
       "    </tr>\n",
       "    <tr>\n",
       "      <th>age_group</th>\n",
       "      <th></th>\n",
       "    </tr>\n",
       "  </thead>\n",
       "  <tbody>\n",
       "    <tr>\n",
       "      <td>взрослые</td>\n",
       "      <td>55938.785436</td>\n",
       "    </tr>\n",
       "    <tr>\n",
       "      <td>дети</td>\n",
       "      <td>69516.105102</td>\n",
       "    </tr>\n",
       "    <tr>\n",
       "      <td>пенсионеры</td>\n",
       "      <td>314080.528722</td>\n",
       "    </tr>\n",
       "  </tbody>\n",
       "</table>\n",
       "</div>"
      ],
      "text/plain": [
       "            days_employed\n",
       "age_group                \n",
       "взрослые     55938.785436\n",
       "дети         69516.105102\n",
       "пенсионеры  314080.528722"
      ]
     },
     "execution_count": 7,
     "metadata": {},
     "output_type": "execute_result"
    }
   ],
   "source": [
    "# Создадим функцию age_group(dob_years)\n",
    "# На вход функции попадает возраст, а возвращает она возрастную категорию клиента. Опишем функцию:\n",
    "\n",
    "def age_group(dob_years):\n",
    "        \"\"\"\n",
    "        Возвращает возврастную группу по значению возраста age, используя правила:\n",
    "        - 'дети' при значении age < 18 лет\n",
    "        - 'взрослые' при значениии age более 18 и менее 64, включая 64\n",
    "        - 'пенсионеры' во всех остальных случаях\n",
    "        \"\"\"\n",
    "        if dob_years < 18:\n",
    "                return 'дети'\n",
    "        if dob_years <= 64:\n",
    "                return 'взрослые'\n",
    "        return 'пенсионеры'\n",
    "    \n",
    "# Создадим столбец age_group в котором будет отражена возрастная категория клиента\n",
    "# Для применения функции age_group к столбцу dob_years, используем метод .apply()\n",
    "data['age_group'] = data['dob_years'].apply(age_group)\n",
    "\n",
    "# Для каждой возрастной группы рассчитаем средний стаж работы.\n",
    "# Заменим пропуски в соответствии среднего стажа для каждой возрастной категории\n",
    "# Применим метод groupby он позволяет нам агрегировать age_group \n",
    "# В метод agg() мы передаем словарь соответствия названия колонки и той агрегирующей функции, которую мы хотим применить \n",
    "# В нашем случае мы для каждой возрастной категории хотим вычислить среднее значение (mean) по полю days_employed\n",
    "# Для заполнения пропусков воспользуемся методом .fillna()\n",
    "\n",
    "mean_age_table = data.groupby(['age_group']).agg({'days_employed' : 'mean'})\n",
    "\n",
    "for age_type in mean_age_table.index:\n",
    "    data.loc[data['age_group'] == age_type,'days_employed']=data.loc[data['age_group'] == age_type,'days_employed'].fillna(mean_age_table.loc[age_type, 'days_employed'])\n",
    "mean_age_table"
   ]
  },
  {
   "cell_type": "markdown",
   "metadata": {},
   "source": [
    "Для замены пропусков в столбце total_income, посчитаем средний доход для каждого типа занятности."
   ]
  },
  {
   "cell_type": "code",
   "execution_count": 8,
   "metadata": {},
   "outputs": [
    {
     "data": {
      "text/plain": [
       "сотрудник          11119\n",
       "компаньон           5085\n",
       "пенсионер           3856\n",
       "госслужащий         1459\n",
       "предприниматель        2\n",
       "безработный            2\n",
       "студент                1\n",
       "в декрете              1\n",
       "Name: income_type, dtype: int64"
      ]
     },
     "execution_count": 8,
     "metadata": {},
     "output_type": "execute_result"
    }
   ],
   "source": [
    "# Рассмотрим типы занятности в столбце income_type, проверим на наличие задвоений.\n",
    "# Применим метод .value_counts() для просмотра уникальных значений в столбце income_type\n",
    "data['income_type'].value_counts()"
   ]
  },
  {
   "cell_type": "code",
   "execution_count": 9,
   "metadata": {},
   "outputs": [
    {
     "data": {
      "text/html": [
       "<div>\n",
       "<style scoped>\n",
       "    .dataframe tbody tr th:only-of-type {\n",
       "        vertical-align: middle;\n",
       "    }\n",
       "\n",
       "    .dataframe tbody tr th {\n",
       "        vertical-align: top;\n",
       "    }\n",
       "\n",
       "    .dataframe thead th {\n",
       "        text-align: right;\n",
       "    }\n",
       "</style>\n",
       "<table border=\"1\" class=\"dataframe\">\n",
       "  <thead>\n",
       "    <tr style=\"text-align: right;\">\n",
       "      <th></th>\n",
       "      <th>total_income</th>\n",
       "    </tr>\n",
       "    <tr>\n",
       "      <th>income_type</th>\n",
       "      <th></th>\n",
       "    </tr>\n",
       "  </thead>\n",
       "  <tbody>\n",
       "    <tr>\n",
       "      <td>безработный</td>\n",
       "      <td>131339.751676</td>\n",
       "    </tr>\n",
       "    <tr>\n",
       "      <td>в декрете</td>\n",
       "      <td>53829.130729</td>\n",
       "    </tr>\n",
       "    <tr>\n",
       "      <td>госслужащий</td>\n",
       "      <td>150447.935283</td>\n",
       "    </tr>\n",
       "    <tr>\n",
       "      <td>компаньон</td>\n",
       "      <td>172357.950966</td>\n",
       "    </tr>\n",
       "    <tr>\n",
       "      <td>пенсионер</td>\n",
       "      <td>118514.486412</td>\n",
       "    </tr>\n",
       "    <tr>\n",
       "      <td>предприниматель</td>\n",
       "      <td>499163.144947</td>\n",
       "    </tr>\n",
       "    <tr>\n",
       "      <td>сотрудник</td>\n",
       "      <td>142594.396847</td>\n",
       "    </tr>\n",
       "    <tr>\n",
       "      <td>студент</td>\n",
       "      <td>98201.625314</td>\n",
       "    </tr>\n",
       "  </tbody>\n",
       "</table>\n",
       "</div>"
      ],
      "text/plain": [
       "                  total_income\n",
       "income_type                   \n",
       "безработный      131339.751676\n",
       "в декрете         53829.130729\n",
       "госслужащий      150447.935283\n",
       "компаньон        172357.950966\n",
       "пенсионер        118514.486412\n",
       "предприниматель  499163.144947\n",
       "сотрудник        142594.396847\n",
       "студент           98201.625314"
      ]
     },
     "execution_count": 9,
     "metadata": {},
     "output_type": "execute_result"
    }
   ],
   "source": [
    "# Для каждого типа занятности рассчитаем средний доход.\n",
    "# Заменим пропуски в соответствии среднего дохода для каждого типа занятности\n",
    "# Применим метод groupby он позволяет нам агрегировать income_type \n",
    "# В метод agg() мы передаем словарь соответствия названия колонки и той агрегирующей функции, которую мы хотим применить \n",
    "# В нашем случае мы для каждого уникального income_type хотим вычислить среднее значение (mean) по полю total_income\n",
    "#Для заполнения пропусков воспользуемся методом .fillna()\n",
    "\n",
    "median_table = data.groupby(['income_type']).agg({'total_income' : 'median'})\n",
    "for inc_type in median_table.index:\n",
    "    data.loc[data['income_type'] == inc_type,'total_income']=data.loc[data['income_type'] == inc_type,'total_income'].fillna(median_table.loc[inc_type, 'total_income'])\n",
    "median_table"
   ]
  },
  {
   "cell_type": "markdown",
   "metadata": {},
   "source": [
    "После замены пустых значений нужно убедиться, что таблица больше не содержит пропусков."
   ]
  },
  {
   "cell_type": "code",
   "execution_count": 10,
   "metadata": {},
   "outputs": [
    {
     "data": {
      "text/plain": [
       "children            0\n",
       "days_employed       0\n",
       "dob_years           0\n",
       "education           0\n",
       "education_id        0\n",
       "family_status       0\n",
       "family_status_id    0\n",
       "gender              0\n",
       "income_type         0\n",
       "debt                0\n",
       "total_income        0\n",
       "purpose             0\n",
       "age_group           0\n",
       "dtype: int64"
      ]
     },
     "execution_count": 10,
     "metadata": {},
     "output_type": "execute_result"
    }
   ],
   "source": [
    "# Проверка\n",
    "data.isnull().sum()"
   ]
  },
  {
   "cell_type": "markdown",
   "metadata": {},
   "source": [
    "### Вывод"
   ]
  },
  {
   "cell_type": "markdown",
   "metadata": {},
   "source": [
    "Трудовой стаж и ежемесячный доход  — количественные переменные. Пропуски в таких переменных заполняют характерными значениями. Чтобы оценить значения, мы посчитали среднее арифметическое для каждой возрастной категории и типа занятности."
   ]
  },
  {
   "cell_type": "markdown",
   "metadata": {},
   "source": [
    "### Замена типа данных"
   ]
  },
  {
   "cell_type": "code",
   "execution_count": 11,
   "metadata": {},
   "outputs": [],
   "source": [
    "# Перименим  методом astype(). Например, аргумент ('int') \n",
    "# Метода astype() означает, что значение нужно перевести в целое число:\n",
    "\n",
    "data['days_employed'] = data['days_employed'].astype('int')"
   ]
  },
  {
   "cell_type": "code",
   "execution_count": 12,
   "metadata": {},
   "outputs": [],
   "source": [
    "# Перименим  методом astype(). Например, аргумент ('int') \n",
    "# Метода astype() означает, что значение нужно перевести в целое число:\n",
    "\n",
    "data['total_income'] = data['total_income'].astype('int')"
   ]
  },
  {
   "cell_type": "code",
   "execution_count": 13,
   "metadata": {},
   "outputs": [
    {
     "name": "stdout",
     "output_type": "stream",
     "text": [
      "<class 'pandas.core.frame.DataFrame'>\n",
      "RangeIndex: 21525 entries, 0 to 21524\n",
      "Data columns (total 13 columns):\n",
      "children            21525 non-null int64\n",
      "days_employed       21525 non-null int64\n",
      "dob_years           21525 non-null int64\n",
      "education           21525 non-null object\n",
      "education_id        21525 non-null int64\n",
      "family_status       21525 non-null object\n",
      "family_status_id    21525 non-null int64\n",
      "gender              21525 non-null object\n",
      "income_type         21525 non-null object\n",
      "debt                21525 non-null int64\n",
      "total_income        21525 non-null int64\n",
      "purpose             21525 non-null object\n",
      "age_group           21525 non-null object\n",
      "dtypes: int64(7), object(6)\n",
      "memory usage: 2.1+ MB\n"
     ]
    }
   ],
   "source": [
    "# Проверяем полученный результат, вызвав метод .info()\n",
    "data.info()"
   ]
  },
  {
   "cell_type": "markdown",
   "metadata": {},
   "source": [
    "### Вывод"
   ]
  },
  {
   "cell_type": "markdown",
   "metadata": {},
   "source": [
    "В столбце days_employed значения привели к типу int. Странно, что стаж работы указан в днях. Дальнейшее рассмотрение их считаю не обязательным, на стоящие перед нами вопросы данные не влияют. "
   ]
  },
  {
   "cell_type": "markdown",
   "metadata": {},
   "source": [
    "### Обработка дубликатов"
   ]
  },
  {
   "cell_type": "code",
   "execution_count": 14,
   "metadata": {},
   "outputs": [
    {
     "data": {
      "text/plain": [
       "среднее                13750\n",
       "высшее                  4718\n",
       "СРЕДНЕЕ                  772\n",
       "Среднее                  711\n",
       "неоконченное высшее      668\n",
       "ВЫСШЕЕ                   274\n",
       "Высшее                   268\n",
       "начальное                250\n",
       "Неоконченное высшее       47\n",
       "НЕОКОНЧЕННОЕ ВЫСШЕЕ       29\n",
       "НАЧАЛЬНОЕ                 17\n",
       "Начальное                 15\n",
       "ученая степень             4\n",
       "УЧЕНАЯ СТЕПЕНЬ             1\n",
       "Ученая степень             1\n",
       "Name: education, dtype: int64"
      ]
     },
     "execution_count": 14,
     "metadata": {},
     "output_type": "execute_result"
    }
   ],
   "source": [
    "# Проверка, что все названия сведены к нижнему регистру\n",
    "data['education'].value_counts()"
   ]
  },
  {
   "cell_type": "code",
   "execution_count": 15,
   "metadata": {},
   "outputs": [],
   "source": [
    "# Переведем названия типов занятости в нижний регистр методом str.lower()\n",
    "data['education'] = data['education'].str.lower()"
   ]
  },
  {
   "cell_type": "code",
   "execution_count": 16,
   "metadata": {},
   "outputs": [
    {
     "data": {
      "text/plain": [
       "среднее                15233\n",
       "высшее                  5260\n",
       "неоконченное высшее      744\n",
       "начальное                282\n",
       "ученая степень             6\n",
       "Name: education, dtype: int64"
      ]
     },
     "execution_count": 16,
     "metadata": {},
     "output_type": "execute_result"
    }
   ],
   "source": [
    "# Применим метод .value_counts() к столбцу education. \n",
    "data['education'].value_counts()"
   ]
  },
  {
   "cell_type": "code",
   "execution_count": 17,
   "metadata": {},
   "outputs": [
    {
     "data": {
      "text/plain": [
       "71"
      ]
     },
     "execution_count": 17,
     "metadata": {},
     "output_type": "execute_result"
    }
   ],
   "source": [
    "# Посчитаем количество дубликатов в таблице data\n",
    "data.duplicated().sum()"
   ]
  },
  {
   "cell_type": "code",
   "execution_count": 18,
   "metadata": {},
   "outputs": [],
   "source": [
    "# Удаление всех дубликатов из таблицы data специальным методом .drop_duplicates()\n",
    "data = data.drop_duplicates().reset_index(drop=True)"
   ]
  },
  {
   "cell_type": "code",
   "execution_count": 19,
   "metadata": {},
   "outputs": [
    {
     "data": {
      "text/plain": [
       "0"
      ]
     },
     "execution_count": 19,
     "metadata": {},
     "output_type": "execute_result"
    }
   ],
   "source": [
    "# Проверка\n",
    "data.duplicated().sum()"
   ]
  },
  {
   "cell_type": "code",
   "execution_count": 20,
   "metadata": {},
   "outputs": [
    {
     "data": {
      "text/plain": [
       "0"
      ]
     },
     "execution_count": 20,
     "metadata": {},
     "output_type": "execute_result"
    }
   ],
   "source": [
    "# Код ревьюера\n",
    "data.duplicated().sum()"
   ]
  },
  {
   "cell_type": "markdown",
   "metadata": {},
   "source": [
    "### Вывод"
   ]
  },
  {
   "cell_type": "markdown",
   "metadata": {},
   "source": [
    "Применив метод duplicated().sum() мы обнаружили 71 дубликат. Так как кол-во дубликатов небольшое, можно их удалить без вреда для дальнейшего анализа. В столбце education данные записаны разным регистром, привели их общему регистру."
   ]
  },
  {
   "cell_type": "markdown",
   "metadata": {},
   "source": [
    "### Лемматизация"
   ]
  },
  {
   "cell_type": "markdown",
   "metadata": {},
   "source": [
    "Для ответа на поставленный вопрос, как разные цели кредита влияют на его возврат в срок?\n",
    "Необходимо изучить цели кредита для объединения данных в категории. Применим лемматизацию для столбца purpose, посчитаем леммы и категоризируем."
   ]
  },
  {
   "cell_type": "code",
   "execution_count": 21,
   "metadata": {},
   "outputs": [
    {
     "data": {
      "text/plain": [
       "0                             [покупка,  , жилье, \\n]\n",
       "1                   [приобретение,  , автомобиль, \\n]\n",
       "2                             [покупка,  , жилье, \\n]\n",
       "3                [дополнительный,  , образование, \\n]\n",
       "4                           [сыграть,  , свадьба, \\n]\n",
       "                             ...                     \n",
       "21449                  [операция,  , с,  , жилье, \\n]\n",
       "21450               [сделка,  , с,  , автомобиль, \\n]\n",
       "21451                              [недвижимость, \\n]\n",
       "21452    [на,  , покупка,  , свой,  , автомобиль, \\n]\n",
       "21453             [на,  , покупка,  , автомобиль, \\n]\n",
       "Name: lemma_purpose, Length: 21454, dtype: object"
      ]
     },
     "execution_count": 21,
     "metadata": {},
     "output_type": "execute_result"
    }
   ],
   "source": [
    "# импортировать библиотеку pymystem3.\n",
    "from pymystem3 import Mystem\n",
    "m = Mystem()\n",
    "data['lemma_purpose'] = data['purpose'].apply(m.lemmatize)\n",
    "# Проверка \n",
    "data['lemma_purpose']"
   ]
  },
  {
   "cell_type": "code",
   "execution_count": 22,
   "metadata": {},
   "outputs": [
    {
     "data": {
      "text/plain": [
       "Counter({'покупка': 5897,\n",
       "         ' ': 33570,\n",
       "         'жилье': 4460,\n",
       "         '\\n': 21454,\n",
       "         'приобретение': 461,\n",
       "         'автомобиль': 4306,\n",
       "         'дополнительный': 906,\n",
       "         'образование': 4013,\n",
       "         'сыграть': 765,\n",
       "         'свадьба': 2324,\n",
       "         'операция': 2604,\n",
       "         'с': 2918,\n",
       "         'на': 2222,\n",
       "         'проведение': 768,\n",
       "         'для': 1289,\n",
       "         'семья': 638,\n",
       "         'недвижимость': 6351,\n",
       "         'коммерческий': 1311,\n",
       "         'жилой': 1230,\n",
       "         'строительство': 1878,\n",
       "         'собственный': 635,\n",
       "         'подержать': 478,\n",
       "         'свой': 2230,\n",
       "         'со': 627,\n",
       "         'заниматься': 904,\n",
       "         'сделка': 941,\n",
       "         'подержанный': 486,\n",
       "         'получение': 1314,\n",
       "         'высокий': 1374,\n",
       "         'профильный': 436,\n",
       "         'сдача': 651,\n",
       "         'ремонт': 607})"
      ]
     },
     "execution_count": 22,
     "metadata": {},
     "output_type": "execute_result"
    }
   ],
   "source": [
    "# Посчитаем кол-во вхождений каждой отдельной леммы. \n",
    "# Так мы сможем наглядно определить самые частые слова и на основе их категоризировать цели клиентов\n",
    "from collections import Counter\n",
    "Counter(data['lemma_purpose'].sum())"
   ]
  },
  {
   "cell_type": "markdown",
   "metadata": {},
   "source": [
    "### Вывод"
   ]
  },
  {
   "cell_type": "markdown",
   "metadata": {},
   "source": [
    "В полученных данных можно выделить основные цели кредитов:\n",
    "- покупка недвижимости\n",
    "- покупка автомобиля\n",
    "- сыграть свадьбу\n",
    "- образование"
   ]
  },
  {
   "cell_type": "markdown",
   "metadata": {},
   "source": [
    "### Категоризация данных"
   ]
  },
  {
   "cell_type": "markdown",
   "metadata": {},
   "source": [
    "Объединим некоторые данные в категории для дальнейшего анализа."
   ]
  },
  {
   "cell_type": "code",
   "execution_count": 23,
   "metadata": {},
   "outputs": [
    {
     "data": {
      "text/plain": [
       "покупка недвижимости    10811\n",
       "покупка автомобиля       4306\n",
       "образование              4013\n",
       "свадьба                  2324\n",
       "Name: purpose_category, dtype: int64"
      ]
     },
     "execution_count": 23,
     "metadata": {},
     "output_type": "execute_result"
    }
   ],
   "source": [
    "# Категоризируем клиентов в зависимости от цели, используем леммы в столбце lemma_purpose\n",
    "def categorizer(row):\n",
    "    if 'свадьба' in row:\n",
    "        return 'свадьба'\n",
    "    elif 'жилье' in row or 'недвижимость' in row:\n",
    "        return 'покупка недвижимости'\n",
    "    elif 'автомобиль' in row:\n",
    "        return 'покупка автомобиля'\n",
    "    else:\n",
    "        return 'образование'\n",
    "    \n",
    "data['purpose_category'] = data['lemma_purpose'].apply(categorizer)\n",
    "data['purpose_category'].value_counts() # Проверка значений в столбце purpose_category"
   ]
  },
  {
   "cell_type": "code",
   "execution_count": 24,
   "metadata": {},
   "outputs": [
    {
     "data": {
      "text/plain": [
       " 0     14091\n",
       " 1      4808\n",
       " 2      2052\n",
       " 3       330\n",
       " 20       76\n",
       "-1        47\n",
       " 4        41\n",
       " 5         9\n",
       "Name: children, dtype: int64"
      ]
     },
     "execution_count": 24,
     "metadata": {},
     "output_type": "execute_result"
    }
   ],
   "source": [
    "# Изучим столбец children, используя метод .value_counts()\n",
    "data['children'].value_counts()"
   ]
  },
  {
   "cell_type": "markdown",
   "metadata": {},
   "source": [
    "В столбце children присутствует артефакты и отрицательные значения.\n",
    "В столбце максимальное кол-во детей 5, а 20 - артефакт, вероятно появился по причине человеческого фактора.\n",
    "Считаю правильным исправить 20 на 2.\n",
    "Отрицательные значения в столбце children, возможно техническая ошибка. Её можно исправить, применив метод .abs()"
   ]
  },
  {
   "cell_type": "code",
   "execution_count": 25,
   "metadata": {},
   "outputs": [
    {
     "data": {
      "text/plain": [
       "0    14091\n",
       "1     4855\n",
       "2     2128\n",
       "3      330\n",
       "4       41\n",
       "5        9\n",
       "Name: children, dtype: int64"
      ]
     },
     "execution_count": 25,
     "metadata": {},
     "output_type": "execute_result"
    }
   ],
   "source": [
    "data['children'] = data['children'].abs() # Для перевода -1 в положительное значение\n",
    "data['children'] = data['children'].replace(20,2) # Для замены артефакта применю метод .replace()\n",
    "data['children'].value_counts() # Проверка значений в столбце children  "
   ]
  },
  {
   "cell_type": "code",
   "execution_count": 26,
   "metadata": {},
   "outputs": [
    {
     "data": {
      "text/plain": [
       "нет детей    14091\n",
       "есть дети     7363\n",
       "Name: children_group, dtype: int64"
      ]
     },
     "execution_count": 26,
     "metadata": {},
     "output_type": "execute_result"
    }
   ],
   "source": [
    "# Категоризируем клиентов по наличию детей, используем значения в столбце children\n",
    "def children_group(children):\n",
    "        \"\"\"\n",
    "        Возвращает группу клиентов с детьми по значению кол-ва children, используя правило:\n",
    "        - 'нет детей' при значении children = 0 детей\n",
    "        - 'есть дети' во всех остальных случаях\n",
    "        \"\"\"\n",
    "        if children == 0:\n",
    "                return 'нет детей'\n",
    "        return 'есть дети'\n",
    "    \n",
    "data['children_group'] = data['children'].apply(children_group)\n",
    "data['children_group'].value_counts()"
   ]
  },
  {
   "cell_type": "markdown",
   "metadata": {},
   "source": [
    "Создадим категорию для клиентов по признаку семейное положение."
   ]
  },
  {
   "cell_type": "code",
   "execution_count": 27,
   "metadata": {},
   "outputs": [
    {
     "data": {
      "text/html": [
       "<div>\n",
       "<style scoped>\n",
       "    .dataframe tbody tr th:only-of-type {\n",
       "        vertical-align: middle;\n",
       "    }\n",
       "\n",
       "    .dataframe tbody tr th {\n",
       "        vertical-align: top;\n",
       "    }\n",
       "\n",
       "    .dataframe thead th {\n",
       "        text-align: right;\n",
       "    }\n",
       "</style>\n",
       "<table border=\"1\" class=\"dataframe\">\n",
       "  <thead>\n",
       "    <tr style=\"text-align: right;\">\n",
       "      <th></th>\n",
       "      <th>family_status</th>\n",
       "      <th>family_status_id</th>\n",
       "    </tr>\n",
       "  </thead>\n",
       "  <tbody>\n",
       "    <tr>\n",
       "      <td>0</td>\n",
       "      <td>женат / замужем</td>\n",
       "      <td>0</td>\n",
       "    </tr>\n",
       "    <tr>\n",
       "      <td>1</td>\n",
       "      <td>гражданский брак</td>\n",
       "      <td>1</td>\n",
       "    </tr>\n",
       "    <tr>\n",
       "      <td>2</td>\n",
       "      <td>вдовец / вдова</td>\n",
       "      <td>2</td>\n",
       "    </tr>\n",
       "    <tr>\n",
       "      <td>3</td>\n",
       "      <td>в разводе</td>\n",
       "      <td>3</td>\n",
       "    </tr>\n",
       "    <tr>\n",
       "      <td>4</td>\n",
       "      <td>Не женат / не замужем</td>\n",
       "      <td>4</td>\n",
       "    </tr>\n",
       "  </tbody>\n",
       "</table>\n",
       "</div>"
      ],
      "text/plain": [
       "           family_status  family_status_id\n",
       "0        женат / замужем                 0\n",
       "1       гражданский брак                 1\n",
       "2         вдовец / вдова                 2\n",
       "3              в разводе                 3\n",
       "4  Не женат / не замужем                 4"
      ]
     },
     "execution_count": 27,
     "metadata": {},
     "output_type": "execute_result"
    }
   ],
   "source": [
    "# Создадим словарь и оптимизируем данные family_status\n",
    "data_family_status = data[['family_status','family_status_id']]\n",
    "data_family_status = data_family_status.drop_duplicates().reset_index(drop=True)\n",
    "data_family_status.sort_values('family_status_id')"
   ]
  },
  {
   "cell_type": "code",
   "execution_count": 28,
   "metadata": {},
   "outputs": [],
   "source": [
    "# Категоризирую клиентов по наличию задолженности по кредиту\n",
    "def check_debt(row):\n",
    "   \n",
    "    debt_group = row['debt']\n",
    "   \n",
    "    if debt_group == 0:\n",
    "        return 'no_debt'\n",
    "    else:\n",
    "        return 'debt'\n",
    "\n",
    "data['debt_group'] = data.apply(check_debt, axis =1)"
   ]
  },
  {
   "cell_type": "code",
   "execution_count": 29,
   "metadata": {},
   "outputs": [
    {
     "data": {
      "text/plain": [
       "count      21454.000000\n",
       "mean      165319.572294\n",
       "std        98187.303486\n",
       "min        20667.000000\n",
       "25%       107623.000000\n",
       "50%       142594.000000\n",
       "75%       195820.250000\n",
       "max      2265604.000000\n",
       "Name: total_income, dtype: object"
      ]
     },
     "execution_count": 29,
     "metadata": {},
     "output_type": "execute_result"
    }
   ],
   "source": [
    "# Применим метода .describe() для дальнейшей категоризации клиентов по уровню дохода\n",
    "data['total_income'].describe().apply(lambda x: format(x, 'f'))"
   ]
  },
  {
   "cell_type": "code",
   "execution_count": 30,
   "metadata": {},
   "outputs": [
    {
     "data": {
      "text/plain": [
       "средний    11924\n",
       "высокий     5067\n",
       "низкий      4463\n",
       "Name: total_income_group, dtype: int64"
      ]
     },
     "execution_count": 30,
     "metadata": {},
     "output_type": "execute_result"
    }
   ],
   "source": [
    "# Категоризируем клиентов по уровню дохода, используем значения в столбце total_income\n",
    "\n",
    "def categorizer_total_income(total_income):\n",
    "        \"\"\"\n",
    "        Возвращает количество пользователей в зависимости от уровня дохода по значению категории total_income, используя правила:\n",
    "        - 'высокий' при значении total_income >= 200000\n",
    "        - 'низкий' при значении total_income <= 100000\n",
    "        - 'средний' при всех остальных значениях\n",
    "        \"\"\"\n",
    "\n",
    "        if total_income >= 200000:\n",
    "                return 'высокий'\n",
    "        \n",
    "        if total_income <= 100000:\n",
    "            return 'низкий'\n",
    "        \n",
    "        return 'средний'\n",
    "    \n",
    "data['total_income_group'] = data['total_income'].apply(categorizer_total_income)\n",
    "data['total_income_group'].value_counts()"
   ]
  },
  {
   "cell_type": "markdown",
   "metadata": {},
   "source": [
    "### Вывод"
   ]
  },
  {
   "cell_type": "markdown",
   "metadata": {},
   "source": [
    "Приходится много категоризовать для дальнейшего анализа данных и решения поставленных задач."
   ]
  },
  {
   "cell_type": "markdown",
   "metadata": {},
   "source": [
    "### Шаг 3. Ответьте на вопросы"
   ]
  },
  {
   "cell_type": "markdown",
   "metadata": {},
   "source": [
    "- Есть ли зависимость между наличием детей и возвратом кредита в срок?"
   ]
  },
  {
   "cell_type": "code",
   "execution_count": 31,
   "metadata": {},
   "outputs": [
    {
     "name": "stdout",
     "output_type": "stream",
     "text": [
      "debt_group      debt  no_debt\n",
      "children_group               \n",
      "есть дети        678     6685\n",
      "нет детей       1063    13028\n",
      "------------------------------------------------------------------------------------\n",
      "                debt          percent\n",
      "                 sum  count          \n",
      "children_group                       \n",
      "есть дети        678   7363  9.208203\n",
      "нет детей       1063  14091  7.543822\n"
     ]
    }
   ],
   "source": [
    "# Задолженность клиентов имеющих детей\n",
    "data_pivot_children = data.pivot_table(index=['children_group'], columns='debt_group', values='debt', aggfunc='count')\n",
    "print(data_pivot_children)\n",
    "\n",
    "print('-------'*12)\n",
    "\n",
    "table_children = data.groupby(['children_group']).agg({'debt' : ['sum','count']})\n",
    "table_children['percent'] = table_children['debt']['sum'] / table_children['debt']['count'] * 100 # определим % кредитов, выплаты по которым происходят в срок (в разрезе категории)\n",
    "print(table_children.sort_values(by='percent', ascending=False))"
   ]
  },
  {
   "cell_type": "markdown",
   "metadata": {},
   "source": [
    "### Вывод"
   ]
  },
  {
   "cell_type": "markdown",
   "metadata": {},
   "source": [
    "Наличие детей снижает платежеспособность клиентов. Это видно из полученных результатов:\n",
    "- Процент кредитов с задолженностью у клиентов с детьми: 9.2%\n",
    "- Процент кредитов с задолженностью у клиентов без детей: 7.5%"
   ]
  },
  {
   "cell_type": "markdown",
   "metadata": {},
   "source": [
    "- Есть ли зависимость между семейным положением и возвратом кредита в срок?"
   ]
  },
  {
   "cell_type": "code",
   "execution_count": 32,
   "metadata": {},
   "outputs": [
    {
     "name": "stdout",
     "output_type": "stream",
     "text": [
      "debt_group             debt  no_debt\n",
      "family_status                       \n",
      "Не женат / не замужем   274     2536\n",
      "в разводе                85     1110\n",
      "вдовец / вдова           63      896\n",
      "гражданский брак        388     3763\n",
      "женат / замужем         931    11408\n",
      "------------------------------------------------------------------------------------\n",
      "                      debt          percent\n",
      "                       sum  count          \n",
      "family_status                              \n",
      "Не женат / не замужем  274   2810  9.750890\n",
      "гражданский брак       388   4151  9.347145\n",
      "женат / замужем        931  12339  7.545182\n",
      "в разводе               85   1195  7.112971\n",
      "вдовец / вдова          63    959  6.569343\n"
     ]
    }
   ],
   "source": [
    "# Задолженность между клиентами имеющих семью и без семьи\n",
    "data_pivot_family = data.pivot_table(index=['family_status'], columns='debt_group', values='debt', aggfunc='count')\n",
    "print(data_pivot_family)\n",
    "\n",
    "print('-------'*12)\n",
    "\n",
    "table_family = data.groupby(['family_status']).agg({'debt' : ['sum','count']})\n",
    "table_family['percent'] = table_family['debt']['sum'] / table_family['debt']['count']* 100 # определим % кредитов, выплаты по которым происходят в срок (в разрезе категории)\n",
    "print(table_family.sort_values(by='percent', ascending=False))"
   ]
  },
  {
   "cell_type": "markdown",
   "metadata": {},
   "source": [
    "### Вывод"
   ]
  },
  {
   "cell_type": "markdown",
   "metadata": {},
   "source": [
    "Процент задолженности по кредитам у клиентов со статусом семейного положения:\n",
    "\n",
    " - Не женат / не замужем: 9.7%\n",
    " - гражданский брак: 9.3%\n",
    " - женат / замужем: 7.5%\n",
    " - в разводе: 7.1%\n",
    " - вдовец / вдова: 6.5%\n",
    "\n",
    "Клиенты со статусом \"Не женат / не замужем, гражданский брак\" имеют высокий процент задолженности по кредитам. В целом, здесь видно, что наиболее надежные заемщики, это те, кто находится или когда-либо был в браке."
   ]
  },
  {
   "cell_type": "markdown",
   "metadata": {},
   "source": [
    "- Есть ли зависимость между уровнем дохода и возвратом кредита в срок?"
   ]
  },
  {
   "cell_type": "code",
   "execution_count": 33,
   "metadata": {},
   "outputs": [
    {
     "name": "stdout",
     "output_type": "stream",
     "text": [
      "debt_group          debt  no_debt\n",
      "total_income_group               \n",
      "высокий              358     4709\n",
      "низкий               354     4109\n",
      "средний             1029    10895\n",
      "------------------------------------------------------------------------------------\n",
      "                    debt          percent\n",
      "                     sum  count          \n",
      "total_income_group                       \n",
      "средний             1029  11924  8.629654\n",
      "низкий               354   4463  7.931884\n",
      "высокий              358   5067  7.065325\n"
     ]
    }
   ],
   "source": [
    "# Задолженность клиентов по уровню дохода \n",
    "data_pivot_income = data.pivot_table(index=['total_income_group'], columns='debt_group', values='debt', aggfunc='count')\n",
    "print(data_pivot_income)\n",
    "\n",
    "print('-------'*12)\n",
    "\n",
    "income_group = data.groupby(['total_income_group']).agg({'debt' : ['sum','count']})\n",
    "income_group['percent'] = income_group['debt']['sum'] / income_group['debt']['count']* 100 # определим % кредитов, выплаты по которым происходят в срок (в разрезе категории)\n",
    "print(income_group.sort_values(by='percent', ascending=False))"
   ]
  },
  {
   "cell_type": "markdown",
   "metadata": {},
   "source": [
    "### Вывод"
   ]
  },
  {
   "cell_type": "markdown",
   "metadata": {},
   "source": [
    "Процент задолженности  по кредиту от уровня доходов клиента:\n",
    "- Процент кредитов с задолженностью у клиентов с высоким доходом: 7%\n",
    "- Процент кредитов с задолженностью у клиентов с средним доходом: 8.6%\n",
    "- Процент кредитов с задолженностью у клиентов с низким доходом: 7.9%\n",
    "\n",
    "Клиенты с высоким уровнем дохода имеют низкий процент задолженности по кредитам, чем клиенты с низким и средним уровнем дохода."
   ]
  },
  {
   "cell_type": "markdown",
   "metadata": {},
   "source": [
    "- Как разные цели кредита влияют на его возврат в срок?"
   ]
  },
  {
   "cell_type": "code",
   "execution_count": 34,
   "metadata": {},
   "outputs": [
    {
     "name": "stdout",
     "output_type": "stream",
     "text": [
      "debt_group            debt  no_debt\n",
      "purpose_category                   \n",
      "образование            370     3643\n",
      "покупка автомобиля     403     3903\n",
      "покупка недвижимости   782    10029\n",
      "свадьба                186     2138\n",
      "------------------------------------------------------------------------------------\n",
      "                     debt          percent\n",
      "                      sum  count          \n",
      "purpose_category                          \n",
      "покупка автомобиля    403   4306  9.359034\n",
      "образование           370   4013  9.220035\n",
      "свадьба               186   2324  8.003442\n",
      "покупка недвижимости  782  10811  7.233373\n"
     ]
    }
   ],
   "source": [
    "# Задолженность клиентов банка в зависимости от цели кредита\n",
    "data_pivot_purpose = data.pivot_table(index=['purpose_category'], columns='debt_group', values='debt', aggfunc='count')\n",
    "print(data_pivot_purpose)\n",
    "\n",
    "print('-------'*12)\n",
    "\n",
    "purpose_group = data.groupby(['purpose_category']).agg({'debt' : ['sum','count']})\n",
    "purpose_group['percent'] = purpose_group['debt']['sum'] / purpose_group['debt']['count']* 100 # определим % кредитов, выплаты по которым происходят в срок (в разрезе категории)\n",
    "print(purpose_group.sort_values(by='percent', ascending=False))"
   ]
  },
  {
   "cell_type": "markdown",
   "metadata": {},
   "source": [
    "### Вывод"
   ]
  },
  {
   "cell_type": "markdown",
   "metadata": {},
   "source": [
    "Очевидно, что присутствует зависимость возврата кредита в срок от его цели:\n",
    "- Процент кредитов с задолженностью у клиентов с целью приобретение автомобиля: 9.3%\n",
    "- Процент кредитов с задолженностью у клиентов с целью оплаты образования: 9.2%\n",
    "- Процент кредитов с задолженностью у клиентов с целью сыграть свадьбу: 8%\n",
    "- Процент кредитов с задолженностью у клиентов с целью покупка недвижимости: 7.2%\n",
    "\n",
    "Самая низкая задолженность у клиентов, которые приобретают недвижимость. Возможно, это связано с тем, что недвижимость - долгосрочный и дорогой объект. В связи с этим  клиенты более ответственно подходят к приобретению недвижимости.\n",
    "Самая высокая задолженность по кредитам у клиентов, которые приобретают автомобиль. Причины задолженности могут быть разные. Возможно, одной из причин является, что приобретая автомобиль у клиентов банка появляются дополнительные расходы на содержание автомобиля. Вследствие этого они не всегда вовремя платят кредит."
   ]
  },
  {
   "cell_type": "markdown",
   "metadata": {},
   "source": [
    "### Шаг 4. Общий вывод"
   ]
  },
  {
   "cell_type": "markdown",
   "metadata": {},
   "source": [
    "В полученных данных от банка о платёжеспособности клиентов в процессе предобработки данных выявили ряд недостатков: \n",
    "- Не корректные значения (пропуски, недопустимые значения, выбросы)\n",
    "- Дубликаты\n",
    "- Не верный тип данных\n",
    "- Категориальные признаки (не оптимальное число категорий, проблемы с регистром)\n",
    "\n",
    "После обработки данных, мы приступили к анализу, входе которого получили несколько интересных выводов:\n",
    "- наличие детей у клиентов влияет на возврат задолженности в срок\n",
    "- зависимости между семейным положением и возвратом кредита в срок не наблюдается\n",
    "- клиенты с высоким уровнем дохода имеют низкий процент задолженности по кредитам\n",
    "- разные цели кредита влияют на его возврат в срок\n"
   ]
  }
 ],
 "metadata": {
  "ExecuteTimeLog": [
   {
    "duration": 749,
    "start_time": "2021-08-12T21:06:03.750Z"
   },
   {
    "duration": 99,
    "start_time": "2021-08-12T21:06:06.843Z"
   },
   {
    "duration": 30,
    "start_time": "2021-08-12T21:06:10.989Z"
   },
   {
    "duration": 12,
    "start_time": "2021-08-12T21:06:58.155Z"
   },
   {
    "duration": 9,
    "start_time": "2021-08-12T21:07:58.993Z"
   },
   {
    "duration": 91,
    "start_time": "2021-08-12T21:08:15.855Z"
   },
   {
    "duration": 9,
    "start_time": "2021-08-12T21:10:35.683Z"
   },
   {
    "duration": 7,
    "start_time": "2021-08-12T21:10:42.602Z"
   },
   {
    "duration": 7,
    "start_time": "2021-08-12T21:10:50.546Z"
   },
   {
    "duration": 11,
    "start_time": "2021-08-12T21:12:37.223Z"
   },
   {
    "duration": 341,
    "start_time": "2021-08-12T21:12:59.403Z"
   },
   {
    "duration": 68,
    "start_time": "2021-08-12T21:13:24.204Z"
   },
   {
    "duration": 699,
    "start_time": "2021-08-12T21:26:32.406Z"
   },
   {
    "duration": 1994,
    "start_time": "2021-08-12T21:26:33.108Z"
   },
   {
    "duration": -202,
    "start_time": "2021-08-12T21:26:35.310Z"
   },
   {
    "duration": -208,
    "start_time": "2021-08-12T21:26:35.318Z"
   },
   {
    "duration": -213,
    "start_time": "2021-08-12T21:26:35.325Z"
   },
   {
    "duration": -218,
    "start_time": "2021-08-12T21:26:35.332Z"
   },
   {
    "duration": -223,
    "start_time": "2021-08-12T21:26:35.339Z"
   },
   {
    "duration": -227,
    "start_time": "2021-08-12T21:26:35.345Z"
   },
   {
    "duration": -230,
    "start_time": "2021-08-12T21:26:35.351Z"
   },
   {
    "duration": -233,
    "start_time": "2021-08-12T21:26:35.356Z"
   },
   {
    "duration": -235,
    "start_time": "2021-08-12T21:26:35.360Z"
   },
   {
    "duration": -236,
    "start_time": "2021-08-12T21:26:35.363Z"
   },
   {
    "duration": -237,
    "start_time": "2021-08-12T21:26:35.366Z"
   },
   {
    "duration": -238,
    "start_time": "2021-08-12T21:26:35.370Z"
   },
   {
    "duration": -238,
    "start_time": "2021-08-12T21:26:35.372Z"
   },
   {
    "duration": -239,
    "start_time": "2021-08-12T21:26:35.375Z"
   },
   {
    "duration": -241,
    "start_time": "2021-08-12T21:26:35.379Z"
   },
   {
    "duration": -242,
    "start_time": "2021-08-12T21:26:35.382Z"
   },
   {
    "duration": -231,
    "start_time": "2021-08-12T21:26:35.384Z"
   },
   {
    "duration": -231,
    "start_time": "2021-08-12T21:26:35.387Z"
   },
   {
    "duration": -232,
    "start_time": "2021-08-12T21:26:35.390Z"
   },
   {
    "duration": -233,
    "start_time": "2021-08-12T21:26:35.393Z"
   },
   {
    "duration": -233,
    "start_time": "2021-08-12T21:26:35.395Z"
   },
   {
    "duration": -234,
    "start_time": "2021-08-12T21:26:35.398Z"
   },
   {
    "duration": -241,
    "start_time": "2021-08-12T21:26:35.407Z"
   },
   {
    "duration": -241,
    "start_time": "2021-08-12T21:26:35.410Z"
   },
   {
    "duration": -242,
    "start_time": "2021-08-12T21:26:35.413Z"
   },
   {
    "duration": -243,
    "start_time": "2021-08-12T21:26:35.416Z"
   },
   {
    "duration": -243,
    "start_time": "2021-08-12T21:26:35.418Z"
   },
   {
    "duration": -244,
    "start_time": "2021-08-12T21:26:35.422Z"
   },
   {
    "duration": -245,
    "start_time": "2021-08-12T21:26:35.425Z"
   },
   {
    "duration": -246,
    "start_time": "2021-08-12T21:26:35.429Z"
   },
   {
    "duration": -248,
    "start_time": "2021-08-12T21:26:35.433Z"
   },
   {
    "duration": -249,
    "start_time": "2021-08-12T21:26:35.436Z"
   },
   {
    "duration": 66,
    "start_time": "2021-08-12T21:27:44.566Z"
   },
   {
    "duration": 766,
    "start_time": "2021-08-12T21:27:49.920Z"
   },
   {
    "duration": 67,
    "start_time": "2021-08-12T21:27:50.689Z"
   },
   {
    "duration": 29,
    "start_time": "2021-08-12T21:27:50.759Z"
   },
   {
    "duration": 19,
    "start_time": "2021-08-12T21:27:50.791Z"
   },
   {
    "duration": 43,
    "start_time": "2021-08-12T21:27:50.813Z"
   },
   {
    "duration": 6,
    "start_time": "2021-08-12T21:27:50.859Z"
   },
   {
    "duration": 60,
    "start_time": "2021-08-12T21:27:50.868Z"
   },
   {
    "duration": 10,
    "start_time": "2021-08-12T21:27:50.954Z"
   },
   {
    "duration": 86,
    "start_time": "2021-08-12T21:27:50.968Z"
   },
   {
    "duration": 16,
    "start_time": "2021-08-12T21:27:51.056Z"
   },
   {
    "duration": 15,
    "start_time": "2021-08-12T21:27:51.075Z"
   },
   {
    "duration": 12,
    "start_time": "2021-08-12T21:27:51.093Z"
   },
   {
    "duration": 29,
    "start_time": "2021-08-12T21:27:51.108Z"
   },
   {
    "duration": 25,
    "start_time": "2021-08-12T21:27:51.140Z"
   },
   {
    "duration": 21,
    "start_time": "2021-08-12T21:27:51.167Z"
   },
   {
    "duration": 19,
    "start_time": "2021-08-12T21:27:51.190Z"
   },
   {
    "duration": 52,
    "start_time": "2021-08-12T21:27:51.211Z"
   },
   {
    "duration": 28,
    "start_time": "2021-08-12T21:27:51.266Z"
   },
   {
    "duration": 24,
    "start_time": "2021-08-12T21:27:51.297Z"
   },
   {
    "duration": 48,
    "start_time": "2021-08-12T21:27:51.323Z"
   },
   {
    "duration": 4444,
    "start_time": "2021-08-12T21:27:51.374Z"
   },
   {
    "duration": 8338,
    "start_time": "2021-08-12T21:27:55.821Z"
   },
   {
    "duration": 30,
    "start_time": "2021-08-12T21:28:04.164Z"
   },
   {
    "duration": 8,
    "start_time": "2021-08-12T21:28:04.197Z"
   },
   {
    "duration": 48,
    "start_time": "2021-08-12T21:28:04.208Z"
   },
   {
    "duration": 25,
    "start_time": "2021-08-12T21:28:04.259Z"
   },
   {
    "duration": 32,
    "start_time": "2021-08-12T21:28:04.287Z"
   },
   {
    "duration": 467,
    "start_time": "2021-08-12T21:28:04.322Z"
   },
   {
    "duration": 11,
    "start_time": "2021-08-12T21:28:04.792Z"
   },
   {
    "duration": 19,
    "start_time": "2021-08-12T21:28:04.806Z"
   },
   {
    "duration": 91,
    "start_time": "2021-08-12T21:28:04.827Z"
   },
   {
    "duration": 46,
    "start_time": "2021-08-12T21:28:04.920Z"
   },
   {
    "duration": 40,
    "start_time": "2021-08-12T21:28:04.968Z"
   },
   {
    "duration": 67,
    "start_time": "2021-08-12T21:28:05.011Z"
   }
  ],
  "kernelspec": {
   "display_name": "Python 3",
   "language": "python",
   "name": "python3"
  },
  "language_info": {
   "codemirror_mode": {
    "name": "ipython",
    "version": 3
   },
   "file_extension": ".py",
   "mimetype": "text/x-python",
   "name": "python",
   "nbconvert_exporter": "python",
   "pygments_lexer": "ipython3",
   "version": "3.8.5"
  },
  "toc": {
   "base_numbering": 1,
   "nav_menu": {},
   "number_sections": true,
   "sideBar": true,
   "skip_h1_title": true,
   "title_cell": "Table of Contents",
   "title_sidebar": "Contents",
   "toc_cell": false,
   "toc_position": {},
   "toc_section_display": true,
   "toc_window_display": false
  }
 },
 "nbformat": 4,
 "nbformat_minor": 2
}
